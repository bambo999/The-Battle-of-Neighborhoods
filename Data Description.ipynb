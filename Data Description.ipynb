{
 "cells": [
  {
   "cell_type": "markdown",
   "metadata": {
    "collapsed": true
   },
   "source": [
    "# Data Description"
   ]
  },
  {
   "cell_type": "markdown",
   "metadata": {},
   "source": [
    "#### To choose the restaurant, we will need to access data of Neighborhoods in New York (Brooklyn) And Toronto to build our analysis. We will also access coordinates latitude and longitude of the Localities of these two cities from Foursquare APIs and also identify our venues locations with maps. From Foursquare we will need different restaurant information. We will then leverage the data in order to determine which neighborhood is the most appropriate for the restaurant.\n",
    "\n",
    "#### Source of Data\n",
    "##### Demographics of New York City from U.S. Census of 2000 from wikipedia. \n",
    "##### Demographics of Toronto Neighbourhoods from wikipedia 2006\n",
    "##### Foursquare API Geolocation data Foursquare-Developer-API\n",
    "\n"
   ]
  },
  {
   "cell_type": "code",
   "execution_count": null,
   "metadata": {},
   "outputs": [],
   "source": []
  }
 ],
 "metadata": {
  "kernelspec": {
   "display_name": "Python 3.7",
   "language": "python",
   "name": "python3"
  },
  "language_info": {
   "codemirror_mode": {
    "name": "ipython",
    "version": 3
   },
   "file_extension": ".py",
   "mimetype": "text/x-python",
   "name": "python",
   "nbconvert_exporter": "python",
   "pygments_lexer": "ipython3",
   "version": "3.7.9"
  }
 },
 "nbformat": 4,
 "nbformat_minor": 1
}
